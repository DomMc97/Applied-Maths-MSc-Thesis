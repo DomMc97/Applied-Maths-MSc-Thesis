{
  "nbformat": 4,
  "nbformat_minor": 0,
  "metadata": {
    "colab": {
      "name": "Geopandas.ipynb",
      "provenance": [],
      "authorship_tag": "ABX9TyMtyc9NYZ4UqfbFbFpNK3LK",
      "include_colab_link": true
    },
    "kernelspec": {
      "name": "python3",
      "display_name": "Python 3"
    }
  },
  "cells": [
    {
      "cell_type": "markdown",
      "metadata": {
        "id": "view-in-github",
        "colab_type": "text"
      },
      "source": [
        "<a href=\"https://colab.research.google.com/github/DomMc97/Applied-Maths-MSc-Thesis/blob/master/docs/GAM%20Classes/Geopandas.ipynb\" target=\"_parent\"><img src=\"https://colab.research.google.com/assets/colab-badge.svg\" alt=\"Open In Colab\"/></a>"
      ]
    },
    {
      "cell_type": "markdown",
      "metadata": {
        "id": "ELPldHwguMut"
      },
      "source": [
        "# How to Install Geopandas \r\n",
        "\r\n",
        "This is how to install Geopandas and its required dependencies for use in Google Colab."
      ]
    },
    {
      "cell_type": "code",
      "metadata": {
        "id": "isK1nVbTuLt0"
      },
      "source": [
        "%%capture\r\n",
        "# geopandas install\r\n",
        "import os\r\n",
        "!curl -L http://download.osgeo.org/libspatialindex/spatialindex-src-1.8.5.tar.gz | tar xz\r\n",
        "os.chdir('/content/spatialindex-src-1.8.5')\r\n",
        "!./configure\r\n",
        "!make\r\n",
        "!make install\r\n",
        "!ldconfig\r\n",
        "!pip install descartes\r\n",
        "!pip install rtree\r\n",
        "!pip install geopandas\r\n",
        "\r\n",
        "# geopandas import\r\n",
        "import geopandas as gpd"
      ],
      "execution_count": null,
      "outputs": []
    }
  ]
}