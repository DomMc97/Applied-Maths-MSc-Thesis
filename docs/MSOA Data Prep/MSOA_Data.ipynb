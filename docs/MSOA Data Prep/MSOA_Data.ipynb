{
  "nbformat": 4,
  "nbformat_minor": 0,
  "metadata": {
    "colab": {
      "name": "MSOA_Data.ipynb",
      "provenance": [],
      "authorship_tag": "ABX9TyNlNy3dvB1rFCYR/gJEsAKS",
      "include_colab_link": true
    },
    "kernelspec": {
      "name": "python3",
      "display_name": "Python 3"
    }
  },
  "cells": [
    {
      "cell_type": "markdown",
      "metadata": {
        "id": "view-in-github",
        "colab_type": "text"
      },
      "source": [
        "<a href=\"https://colab.research.google.com/github/DomMc97/Applied-Maths-MSc-Thesis/blob/master/docs/MSOA%20Data%20Prep/MSOA_Data.ipynb\" target=\"_parent\"><img src=\"https://colab.research.google.com/assets/colab-badge.svg\" alt=\"Open In Colab\"/></a>"
      ]
    },
    {
      "cell_type": "markdown",
      "metadata": {
        "id": "W8h2ONKI6VgL"
      },
      "source": [
        "#Data Preperation"
      ]
    },
    {
      "cell_type": "markdown",
      "metadata": {
        "id": "2yDwXS266gzN"
      },
      "source": [
        "Prepares all MSOA data."
      ]
    },
    {
      "cell_type": "markdown",
      "metadata": {
        "id": "s-N-4ojE7UeU"
      },
      "source": [
        "##Libraries"
      ]
    },
    {
      "cell_type": "code",
      "metadata": {
        "id": "Cw2fEuLt49F8"
      },
      "source": [
        "from numpy import where\n",
        "import pandas as pd\n",
        "import numpy as np"
      ],
      "execution_count": null,
      "outputs": []
    },
    {
      "cell_type": "code",
      "metadata": {
        "id": "yGNQn11f8ex9"
      },
      "source": [
        "%%capture\n",
        "import os\n",
        "!curl -L http://download.osgeo.org/libspatialindex/spatialindex-src-1.8.5.tar.gz | tar xz\n",
        "os.chdir(\"/content/spatialindex-src-1.8.5\")\n",
        "!./configure\n",
        "!make\n",
        "!make install\n",
        "!ldconfig\n",
        "!pip install descartes\n",
        "!pip install rtree\n",
        "!pip install geopandas\n",
        "import geopandas as gpd"
      ],
      "execution_count": null,
      "outputs": []
    },
    {
      "cell_type": "markdown",
      "metadata": {
        "id": "yywDn-D_8nLO"
      },
      "source": [
        "##Mounts Drive"
      ]
    },
    {
      "cell_type": "code",
      "metadata": {
        "id": "T1eIN4Bc8tBc",
        "colab": {
          "base_uri": "https://localhost:8080/",
          "height": 35
        },
        "outputId": "c922f869-4e56-4251-bff9-1d352ef65223"
      },
      "source": [
        "# mount Google Drive\n",
        "from google.colab import drive\n",
        "drive.mount('/content/drive')\n",
        "root = '/content/drive/My Drive/Project/MSOA Data Preparation/'"
      ],
      "execution_count": null,
      "outputs": [
        {
          "output_type": "stream",
          "text": [
            "Drive already mounted at /content/drive; to attempt to forcibly remount, call drive.mount(\"/content/drive\", force_remount=True).\n"
          ],
          "name": "stdout"
        }
      ]
    },
    {
      "cell_type": "markdown",
      "metadata": {
        "id": "Hs043HlG81fN"
      },
      "source": [
        "## MSOA Data"
      ]
    },
    {
      "cell_type": "markdown",
      "metadata": {
        "id": "pWXQpX4kOMzo"
      },
      "source": [
        "Loads Shapefile of MSOAs in England and Wales."
      ]
    },
    {
      "cell_type": "code",
      "metadata": {
        "id": "KL2g4XZtOVEN",
        "colab": {
          "base_uri": "https://localhost:8080/",
          "height": 219
        },
        "outputId": "80ec9aaa-2410-4d35-9428-a283e3b36b45"
      },
      "source": [
        "MSOAs = gpd.read_file(root + 'MSOA_boundaries.shp')\n",
        "MSOAs = MSOAs.iloc[:,[1,2,4,6]]\n",
        "print('Shape: ', MSOAs.shape)\n",
        "MSOAs.head()"
      ],
      "execution_count": null,
      "outputs": [
        {
          "output_type": "stream",
          "text": [
            "Shape:  (7201, 4)\n"
          ],
          "name": "stdout"
        },
        {
          "output_type": "execute_result",
          "data": {
            "text/html": [
              "<div>\n",
              "<style scoped>\n",
              "    .dataframe tbody tr th:only-of-type {\n",
              "        vertical-align: middle;\n",
              "    }\n",
              "\n",
              "    .dataframe tbody tr th {\n",
              "        vertical-align: top;\n",
              "    }\n",
              "\n",
              "    .dataframe thead th {\n",
              "        text-align: right;\n",
              "    }\n",
              "</style>\n",
              "<table border=\"1\" class=\"dataframe\">\n",
              "  <thead>\n",
              "    <tr style=\"text-align: right;\">\n",
              "      <th></th>\n",
              "      <th>msoa11cd</th>\n",
              "      <th>msoa11nm</th>\n",
              "      <th>st_areasha</th>\n",
              "      <th>geometry</th>\n",
              "    </tr>\n",
              "  </thead>\n",
              "  <tbody>\n",
              "    <tr>\n",
              "      <th>0</th>\n",
              "      <td>E02000001</td>\n",
              "      <td>City of London 001</td>\n",
              "      <td>2.983633e+06</td>\n",
              "      <td>POLYGON ((532419.592 181998.305, 532746.814 18...</td>\n",
              "    </tr>\n",
              "    <tr>\n",
              "      <th>1</th>\n",
              "      <td>E02000002</td>\n",
              "      <td>Barking and Dagenham 001</td>\n",
              "      <td>2.091907e+06</td>\n",
              "      <td>POLYGON ((548452.001 189024.718, 548235.426 18...</td>\n",
              "    </tr>\n",
              "    <tr>\n",
              "      <th>2</th>\n",
              "      <td>E02000003</td>\n",
              "      <td>Barking and Dagenham 002</td>\n",
              "      <td>2.122216e+06</td>\n",
              "      <td>POLYGON ((548954.500 189063.203, 548874.188 18...</td>\n",
              "    </tr>\n",
              "    <tr>\n",
              "      <th>3</th>\n",
              "      <td>E02000004</td>\n",
              "      <td>Barking and Dagenham 003</td>\n",
              "      <td>2.569470e+06</td>\n",
              "      <td>POLYGON ((551943.813 186027.672, 551670.812 18...</td>\n",
              "    </tr>\n",
              "    <tr>\n",
              "      <th>4</th>\n",
              "      <td>E02000005</td>\n",
              "      <td>Barking and Dagenham 004</td>\n",
              "      <td>1.111109e+06</td>\n",
              "      <td>POLYGON ((549145.624 187383.875, 549128.657 18...</td>\n",
              "    </tr>\n",
              "  </tbody>\n",
              "</table>\n",
              "</div>"
            ],
            "text/plain": [
              "    msoa11cd  ...                                           geometry\n",
              "0  E02000001  ...  POLYGON ((532419.592 181998.305, 532746.814 18...\n",
              "1  E02000002  ...  POLYGON ((548452.001 189024.718, 548235.426 18...\n",
              "2  E02000003  ...  POLYGON ((548954.500 189063.203, 548874.188 18...\n",
              "3  E02000004  ...  POLYGON ((551943.813 186027.672, 551670.812 18...\n",
              "4  E02000005  ...  POLYGON ((549145.624 187383.875, 549128.657 18...\n",
              "\n",
              "[5 rows x 4 columns]"
            ]
          },
          "metadata": {
            "tags": []
          },
          "execution_count": 61
        }
      ]
    },
    {
      "cell_type": "markdown",
      "metadata": {
        "id": "SfruYOaKaBBo"
      },
      "source": [
        "Loads list of MSOAS in cosine similarity matrix."
      ]
    },
    {
      "cell_type": "code",
      "metadata": {
        "id": "xfE6-YVQZ_-h",
        "colab": {
          "base_uri": "https://localhost:8080/",
          "height": 219
        },
        "outputId": "e20c676d-cbbd-4354-eacc-018d40470aeb"
      },
      "source": [
        "MSOA_List = pd.read_csv(root + 'MSOA LIST.csv', index_col=0)\n",
        "MSOA_List.columns = ['ID']\n",
        "print('Shape: ',MSOA_List.shape)\n",
        "MSOA_List.head()"
      ],
      "execution_count": null,
      "outputs": [
        {
          "output_type": "stream",
          "text": [
            "Shape:  (6791, 1)\n"
          ],
          "name": "stdout"
        },
        {
          "output_type": "execute_result",
          "data": {
            "text/html": [
              "<div>\n",
              "<style scoped>\n",
              "    .dataframe tbody tr th:only-of-type {\n",
              "        vertical-align: middle;\n",
              "    }\n",
              "\n",
              "    .dataframe tbody tr th {\n",
              "        vertical-align: top;\n",
              "    }\n",
              "\n",
              "    .dataframe thead th {\n",
              "        text-align: right;\n",
              "    }\n",
              "</style>\n",
              "<table border=\"1\" class=\"dataframe\">\n",
              "  <thead>\n",
              "    <tr style=\"text-align: right;\">\n",
              "      <th></th>\n",
              "      <th>ID</th>\n",
              "    </tr>\n",
              "  </thead>\n",
              "  <tbody>\n",
              "    <tr>\n",
              "      <th>0</th>\n",
              "      <td>E02000001</td>\n",
              "    </tr>\n",
              "    <tr>\n",
              "      <th>1</th>\n",
              "      <td>E02000002</td>\n",
              "    </tr>\n",
              "    <tr>\n",
              "      <th>2</th>\n",
              "      <td>E02000003</td>\n",
              "    </tr>\n",
              "    <tr>\n",
              "      <th>3</th>\n",
              "      <td>E02000004</td>\n",
              "    </tr>\n",
              "    <tr>\n",
              "      <th>4</th>\n",
              "      <td>E02000005</td>\n",
              "    </tr>\n",
              "  </tbody>\n",
              "</table>\n",
              "</div>"
            ],
            "text/plain": [
              "          ID\n",
              "0  E02000001\n",
              "1  E02000002\n",
              "2  E02000003\n",
              "3  E02000004\n",
              "4  E02000005"
            ]
          },
          "metadata": {
            "tags": []
          },
          "execution_count": 62
        }
      ]
    },
    {
      "cell_type": "markdown",
      "metadata": {
        "id": "hICO2EBIbeRS"
      },
      "source": [
        "Removes MSOAs in Wales from MSOAs dataframe."
      ]
    },
    {
      "cell_type": "code",
      "metadata": {
        "id": "USoNgpSdbc4k",
        "colab": {
          "base_uri": "https://localhost:8080/",
          "height": 35
        },
        "outputId": "e4a325fa-02f2-4111-fbc7-4a4bf7cfb3ad"
      },
      "source": [
        "MSOAs = MSOAs[MSOAs.msoa11cd.isin(MSOA_List.ID)]\n",
        "MSOAs.at[6737,'msoa11nm'] = 'Shepway 015' #corrects error in dataset\n",
        "print('Shape: ',MSOAs.shape)"
      ],
      "execution_count": null,
      "outputs": [
        {
          "output_type": "stream",
          "text": [
            "Shape:  (6791, 4)\n"
          ],
          "name": "stdout"
        }
      ]
    },
    {
      "cell_type": "markdown",
      "metadata": {
        "id": "OCvPxlcBSTyl"
      },
      "source": [
        "Loads population data."
      ]
    },
    {
      "cell_type": "code",
      "metadata": {
        "id": "1nREc6mnFGvY",
        "colab": {
          "base_uri": "https://localhost:8080/",
          "height": 202
        },
        "outputId": "3a4a9b1d-a3d2-4c85-de90-ec196e9547fc"
      },
      "source": [
        "Population = pd.read_csv(root + 'MSOA_population.csv')\n",
        "Population['All Ages'] = Population['All Ages'].str.replace(',', '').astype(float)\n",
        "Population.head()"
      ],
      "execution_count": null,
      "outputs": [
        {
          "output_type": "execute_result",
          "data": {
            "text/html": [
              "<div>\n",
              "<style scoped>\n",
              "    .dataframe tbody tr th:only-of-type {\n",
              "        vertical-align: middle;\n",
              "    }\n",
              "\n",
              "    .dataframe tbody tr th {\n",
              "        vertical-align: top;\n",
              "    }\n",
              "\n",
              "    .dataframe thead th {\n",
              "        text-align: right;\n",
              "    }\n",
              "</style>\n",
              "<table border=\"1\" class=\"dataframe\">\n",
              "  <thead>\n",
              "    <tr style=\"text-align: right;\">\n",
              "      <th></th>\n",
              "      <th>Area Codes</th>\n",
              "      <th>Area Names</th>\n",
              "      <th>Unnamed: 2</th>\n",
              "      <th>All Ages</th>\n",
              "    </tr>\n",
              "  </thead>\n",
              "  <tbody>\n",
              "    <tr>\n",
              "      <th>0</th>\n",
              "      <td>E06000047</td>\n",
              "      <td>County Durham</td>\n",
              "      <td>NaN</td>\n",
              "      <td>515923.0</td>\n",
              "    </tr>\n",
              "    <tr>\n",
              "      <th>1</th>\n",
              "      <td>E02004297</td>\n",
              "      <td>NaN</td>\n",
              "      <td>County Durham 001</td>\n",
              "      <td>7836.0</td>\n",
              "    </tr>\n",
              "    <tr>\n",
              "      <th>2</th>\n",
              "      <td>E02004290</td>\n",
              "      <td>NaN</td>\n",
              "      <td>County Durham 002</td>\n",
              "      <td>5965.0</td>\n",
              "    </tr>\n",
              "    <tr>\n",
              "      <th>3</th>\n",
              "      <td>E02004298</td>\n",
              "      <td>NaN</td>\n",
              "      <td>County Durham 003</td>\n",
              "      <td>9688.0</td>\n",
              "    </tr>\n",
              "    <tr>\n",
              "      <th>4</th>\n",
              "      <td>E02004299</td>\n",
              "      <td>NaN</td>\n",
              "      <td>County Durham 004</td>\n",
              "      <td>8543.0</td>\n",
              "    </tr>\n",
              "  </tbody>\n",
              "</table>\n",
              "</div>"
            ],
            "text/plain": [
              "  Area Codes     Area Names         Unnamed: 2  All Ages\n",
              "0  E06000047  County Durham                NaN  515923.0\n",
              "1  E02004297            NaN  County Durham 001    7836.0\n",
              "2  E02004290            NaN  County Durham 002    5965.0\n",
              "3  E02004298            NaN  County Durham 003    9688.0\n",
              "4  E02004299            NaN  County Durham 004    8543.0"
            ]
          },
          "metadata": {
            "tags": []
          },
          "execution_count": 64
        }
      ]
    },
    {
      "cell_type": "markdown",
      "metadata": {
        "id": "tSx2LT407tSc"
      },
      "source": [
        "Removes population data not needed."
      ]
    },
    {
      "cell_type": "code",
      "metadata": {
        "id": "XIZ6LSSD60vH",
        "colab": {
          "base_uri": "https://localhost:8080/",
          "height": 219
        },
        "outputId": "68ec9431-c6d6-4959-ed0a-57548733685f"
      },
      "source": [
        "Population = Population[Population['Area Codes'].isin(MSOA_List.ID)]\n",
        "Population = Population[['Area Codes','All Ages']]\n",
        "Population.columns = ['msoa11cd','pop']\n",
        "print('Shape: ',Population.shape)\n",
        "Population.head()"
      ],
      "execution_count": null,
      "outputs": [
        {
          "output_type": "stream",
          "text": [
            "Shape:  (6791, 2)\n"
          ],
          "name": "stdout"
        },
        {
          "output_type": "execute_result",
          "data": {
            "text/html": [
              "<div>\n",
              "<style scoped>\n",
              "    .dataframe tbody tr th:only-of-type {\n",
              "        vertical-align: middle;\n",
              "    }\n",
              "\n",
              "    .dataframe tbody tr th {\n",
              "        vertical-align: top;\n",
              "    }\n",
              "\n",
              "    .dataframe thead th {\n",
              "        text-align: right;\n",
              "    }\n",
              "</style>\n",
              "<table border=\"1\" class=\"dataframe\">\n",
              "  <thead>\n",
              "    <tr style=\"text-align: right;\">\n",
              "      <th></th>\n",
              "      <th>msoa11cd</th>\n",
              "      <th>pop</th>\n",
              "    </tr>\n",
              "  </thead>\n",
              "  <tbody>\n",
              "    <tr>\n",
              "      <th>1</th>\n",
              "      <td>E02004297</td>\n",
              "      <td>7836.0</td>\n",
              "    </tr>\n",
              "    <tr>\n",
              "      <th>2</th>\n",
              "      <td>E02004290</td>\n",
              "      <td>5965.0</td>\n",
              "    </tr>\n",
              "    <tr>\n",
              "      <th>3</th>\n",
              "      <td>E02004298</td>\n",
              "      <td>9688.0</td>\n",
              "    </tr>\n",
              "    <tr>\n",
              "      <th>4</th>\n",
              "      <td>E02004299</td>\n",
              "      <td>8543.0</td>\n",
              "    </tr>\n",
              "    <tr>\n",
              "      <th>5</th>\n",
              "      <td>E02004291</td>\n",
              "      <td>6825.0</td>\n",
              "    </tr>\n",
              "  </tbody>\n",
              "</table>\n",
              "</div>"
            ],
            "text/plain": [
              "    msoa11cd     pop\n",
              "1  E02004297  7836.0\n",
              "2  E02004290  5965.0\n",
              "3  E02004298  9688.0\n",
              "4  E02004299  8543.0\n",
              "5  E02004291  6825.0"
            ]
          },
          "metadata": {
            "tags": []
          },
          "execution_count": 65
        }
      ]
    },
    {
      "cell_type": "markdown",
      "metadata": {
        "id": "I8sXdXsE8et9"
      },
      "source": [
        "Adds population data to MSOAs df."
      ]
    },
    {
      "cell_type": "code",
      "metadata": {
        "id": "7tUhWuHi8cw7",
        "colab": {
          "base_uri": "https://localhost:8080/",
          "height": 202
        },
        "outputId": "534ff4a6-d8f5-4c56-fc9e-e9271dbf415b"
      },
      "source": [
        "MSOAs = pd.merge(MSOAs, Population)\n",
        "MSOAs.head()"
      ],
      "execution_count": null,
      "outputs": [
        {
          "output_type": "execute_result",
          "data": {
            "text/html": [
              "<div>\n",
              "<style scoped>\n",
              "    .dataframe tbody tr th:only-of-type {\n",
              "        vertical-align: middle;\n",
              "    }\n",
              "\n",
              "    .dataframe tbody tr th {\n",
              "        vertical-align: top;\n",
              "    }\n",
              "\n",
              "    .dataframe thead th {\n",
              "        text-align: right;\n",
              "    }\n",
              "</style>\n",
              "<table border=\"1\" class=\"dataframe\">\n",
              "  <thead>\n",
              "    <tr style=\"text-align: right;\">\n",
              "      <th></th>\n",
              "      <th>msoa11cd</th>\n",
              "      <th>msoa11nm</th>\n",
              "      <th>st_areasha</th>\n",
              "      <th>geometry</th>\n",
              "      <th>pop</th>\n",
              "    </tr>\n",
              "  </thead>\n",
              "  <tbody>\n",
              "    <tr>\n",
              "      <th>0</th>\n",
              "      <td>E02000001</td>\n",
              "      <td>City of London 001</td>\n",
              "      <td>2.983633e+06</td>\n",
              "      <td>POLYGON ((532419.592 181998.305, 532746.814 18...</td>\n",
              "      <td>6031.0</td>\n",
              "    </tr>\n",
              "    <tr>\n",
              "      <th>1</th>\n",
              "      <td>E02000002</td>\n",
              "      <td>Barking and Dagenham 001</td>\n",
              "      <td>2.091907e+06</td>\n",
              "      <td>POLYGON ((548452.001 189024.718, 548235.426 18...</td>\n",
              "      <td>7131.0</td>\n",
              "    </tr>\n",
              "    <tr>\n",
              "      <th>2</th>\n",
              "      <td>E02000003</td>\n",
              "      <td>Barking and Dagenham 002</td>\n",
              "      <td>2.122216e+06</td>\n",
              "      <td>POLYGON ((548954.500 189063.203, 548874.188 18...</td>\n",
              "      <td>10437.0</td>\n",
              "    </tr>\n",
              "    <tr>\n",
              "      <th>3</th>\n",
              "      <td>E02000004</td>\n",
              "      <td>Barking and Dagenham 003</td>\n",
              "      <td>2.569470e+06</td>\n",
              "      <td>POLYGON ((551943.813 186027.672, 551670.812 18...</td>\n",
              "      <td>6393.0</td>\n",
              "    </tr>\n",
              "    <tr>\n",
              "      <th>4</th>\n",
              "      <td>E02000005</td>\n",
              "      <td>Barking and Dagenham 004</td>\n",
              "      <td>1.111109e+06</td>\n",
              "      <td>POLYGON ((549145.624 187383.875, 549128.657 18...</td>\n",
              "      <td>9116.0</td>\n",
              "    </tr>\n",
              "  </tbody>\n",
              "</table>\n",
              "</div>"
            ],
            "text/plain": [
              "    msoa11cd  ...      pop\n",
              "0  E02000001  ...   6031.0\n",
              "1  E02000002  ...   7131.0\n",
              "2  E02000003  ...  10437.0\n",
              "3  E02000004  ...   6393.0\n",
              "4  E02000005  ...   9116.0\n",
              "\n",
              "[5 rows x 5 columns]"
            ]
          },
          "metadata": {
            "tags": []
          },
          "execution_count": 66
        }
      ]
    },
    {
      "cell_type": "markdown",
      "metadata": {
        "id": "_LPxSxduFjUA"
      },
      "source": [
        "Changes crs of MSOAs df. "
      ]
    },
    {
      "cell_type": "code",
      "metadata": {
        "id": "Gm7u19ZWGcoe"
      },
      "source": [
        "MSOAs = gpd.GeoDataFrame(MSOAs).to_crs(epsg=4326)"
      ],
      "execution_count": null,
      "outputs": []
    },
    {
      "cell_type": "markdown",
      "metadata": {
        "id": "MKrY2hM_bwP5"
      },
      "source": [
        "Loads Hospital Trust location data. "
      ]
    },
    {
      "cell_type": "code",
      "metadata": {
        "id": "YIT8-P3Ib1uK",
        "colab": {
          "base_uri": "https://localhost:8080/",
          "height": 219
        },
        "outputId": "bf38829c-002c-436c-e0ea-6c3d0167e88a"
      },
      "source": [
        "# hospital trusts and there locations\n",
        "Pro = pd.read_csv(root + 'PROCODE3 POSTCODES.csv')\n",
        "print('Shape: ',Pro.shape)\n",
        "Pro.head()"
      ],
      "execution_count": null,
      "outputs": [
        {
          "output_type": "stream",
          "text": [
            "Shape:  (249, 5)\n"
          ],
          "name": "stdout"
        },
        {
          "output_type": "execute_result",
          "data": {
            "text/html": [
              "<div>\n",
              "<style scoped>\n",
              "    .dataframe tbody tr th:only-of-type {\n",
              "        vertical-align: middle;\n",
              "    }\n",
              "\n",
              "    .dataframe tbody tr th {\n",
              "        vertical-align: top;\n",
              "    }\n",
              "\n",
              "    .dataframe thead th {\n",
              "        text-align: right;\n",
              "    }\n",
              "</style>\n",
              "<table border=\"1\" class=\"dataframe\">\n",
              "  <thead>\n",
              "    <tr style=\"text-align: right;\">\n",
              "      <th></th>\n",
              "      <th>PROCODE5</th>\n",
              "      <th>NAME</th>\n",
              "      <th>POSTCODE</th>\n",
              "      <th>Latitude</th>\n",
              "      <th>Longitude</th>\n",
              "    </tr>\n",
              "  </thead>\n",
              "  <tbody>\n",
              "    <tr>\n",
              "      <th>0</th>\n",
              "      <td>R1A</td>\n",
              "      <td>WORCESTERSHIRE HEALTH AND CARE NHS TRUST</td>\n",
              "      <td>WR4 9RW</td>\n",
              "      <td>52.195060</td>\n",
              "      <td>-2.213008</td>\n",
              "    </tr>\n",
              "    <tr>\n",
              "      <th>1</th>\n",
              "      <td>R1C</td>\n",
              "      <td>SOLENT NHS TRUST</td>\n",
              "      <td>SO16 4XE</td>\n",
              "      <td>50.925150</td>\n",
              "      <td>-1.446226</td>\n",
              "    </tr>\n",
              "    <tr>\n",
              "      <th>2</th>\n",
              "      <td>R1E</td>\n",
              "      <td>STAFFORDSHIRE AND STOKE ON TRENT PARTNERSHIP N...</td>\n",
              "      <td>ST5 1QG</td>\n",
              "      <td>53.010128</td>\n",
              "      <td>-2.227616</td>\n",
              "    </tr>\n",
              "    <tr>\n",
              "      <th>3</th>\n",
              "      <td>R1F</td>\n",
              "      <td>ISLE OF WIGHT NHS TRUST</td>\n",
              "      <td>PO30 5TG</td>\n",
              "      <td>50.710843</td>\n",
              "      <td>-1.301330</td>\n",
              "    </tr>\n",
              "    <tr>\n",
              "      <th>4</th>\n",
              "      <td>R1G</td>\n",
              "      <td>TORBAY AND SOUTHERN DEVON HEALTH AND CARE NHS ...</td>\n",
              "      <td>TQ2 7TD</td>\n",
              "      <td>50.487780</td>\n",
              "      <td>-3.552785</td>\n",
              "    </tr>\n",
              "  </tbody>\n",
              "</table>\n",
              "</div>"
            ],
            "text/plain": [
              "  PROCODE5  ... Longitude\n",
              "0      R1A  ... -2.213008\n",
              "1      R1C  ... -1.446226\n",
              "2      R1E  ... -2.227616\n",
              "3      R1F  ... -1.301330\n",
              "4      R1G  ... -3.552785\n",
              "\n",
              "[5 rows x 5 columns]"
            ]
          },
          "metadata": {
            "tags": []
          },
          "execution_count": 68
        }
      ]
    },
    {
      "cell_type": "markdown",
      "metadata": {
        "id": "Vtj75s1Sch2g"
      },
      "source": [
        "Loads data of list of Hospital Trusts included in study. "
      ]
    },
    {
      "cell_type": "code",
      "metadata": {
        "id": "usuMdlJqcrhF",
        "colab": {
          "base_uri": "https://localhost:8080/",
          "height": 219
        },
        "outputId": "cecde986-4ba6-4082-fe6b-5c5225d1a994"
      },
      "source": [
        "Pro_List = pd.read_csv(root + 'PROLIST.csv',index_col=0)\n",
        "Pro_List.columns = ['ID']\n",
        "print('Shape: ',Pro_List.shape)\n",
        "Pro_List.head()"
      ],
      "execution_count": null,
      "outputs": [
        {
          "output_type": "stream",
          "text": [
            "Shape:  (140, 1)\n"
          ],
          "name": "stdout"
        },
        {
          "output_type": "execute_result",
          "data": {
            "text/html": [
              "<div>\n",
              "<style scoped>\n",
              "    .dataframe tbody tr th:only-of-type {\n",
              "        vertical-align: middle;\n",
              "    }\n",
              "\n",
              "    .dataframe tbody tr th {\n",
              "        vertical-align: top;\n",
              "    }\n",
              "\n",
              "    .dataframe thead th {\n",
              "        text-align: right;\n",
              "    }\n",
              "</style>\n",
              "<table border=\"1\" class=\"dataframe\">\n",
              "  <thead>\n",
              "    <tr style=\"text-align: right;\">\n",
              "      <th></th>\n",
              "      <th>ID</th>\n",
              "    </tr>\n",
              "  </thead>\n",
              "  <tbody>\n",
              "    <tr>\n",
              "      <th>0</th>\n",
              "      <td>R1F</td>\n",
              "    </tr>\n",
              "    <tr>\n",
              "      <th>1</th>\n",
              "      <td>R1H</td>\n",
              "    </tr>\n",
              "    <tr>\n",
              "      <th>2</th>\n",
              "      <td>R1K</td>\n",
              "    </tr>\n",
              "    <tr>\n",
              "      <th>3</th>\n",
              "      <td>RA2</td>\n",
              "    </tr>\n",
              "    <tr>\n",
              "      <th>4</th>\n",
              "      <td>RA3</td>\n",
              "    </tr>\n",
              "  </tbody>\n",
              "</table>\n",
              "</div>"
            ],
            "text/plain": [
              "    ID\n",
              "0  R1F\n",
              "1  R1H\n",
              "2  R1K\n",
              "3  RA2\n",
              "4  RA3"
            ]
          },
          "metadata": {
            "tags": []
          },
          "execution_count": 69
        }
      ]
    },
    {
      "cell_type": "markdown",
      "metadata": {
        "id": "WaONrijMdrCz"
      },
      "source": [
        "Removes data from Pro not used in study."
      ]
    },
    {
      "cell_type": "code",
      "metadata": {
        "id": "eI1fFhD6dZu5",
        "colab": {
          "base_uri": "https://localhost:8080/",
          "height": 35
        },
        "outputId": "0d514870-7765-4827-d7de-c35b10dc4e70"
      },
      "source": [
        "Pro = Pro[Pro.PROCODE5.isin(Pro_List.ID)]\n",
        "print('Shape: ',Pro.shape)"
      ],
      "execution_count": null,
      "outputs": [
        {
          "output_type": "stream",
          "text": [
            "Shape:  (140, 5)\n"
          ],
          "name": "stdout"
        }
      ]
    },
    {
      "cell_type": "markdown",
      "metadata": {
        "id": "6FJytG9q5CVy"
      },
      "source": [
        "Converts the pandas dataframe Pro to a geodataframe."
      ]
    },
    {
      "cell_type": "code",
      "metadata": {
        "id": "9dj4i65z49cC",
        "colab": {
          "base_uri": "https://localhost:8080/",
          "height": 202
        },
        "outputId": "594a7e2e-6b73-4e13-9763-f87c6cdc0f97"
      },
      "source": [
        "Pro = gpd.GeoDataFrame(\n",
        "    Pro[['NAME']], geometry=gpd.points_from_xy(x=Pro.Longitude, y=Pro.Latitude),\n",
        "    crs = 'EPSG:4326'\n",
        ")\n",
        "Pro = Pro.reset_index()\n",
        "Pro.head()"
      ],
      "execution_count": null,
      "outputs": [
        {
          "output_type": "execute_result",
          "data": {
            "text/html": [
              "<div>\n",
              "<style scoped>\n",
              "    .dataframe tbody tr th:only-of-type {\n",
              "        vertical-align: middle;\n",
              "    }\n",
              "\n",
              "    .dataframe tbody tr th {\n",
              "        vertical-align: top;\n",
              "    }\n",
              "\n",
              "    .dataframe thead th {\n",
              "        text-align: right;\n",
              "    }\n",
              "</style>\n",
              "<table border=\"1\" class=\"dataframe\">\n",
              "  <thead>\n",
              "    <tr style=\"text-align: right;\">\n",
              "      <th></th>\n",
              "      <th>index</th>\n",
              "      <th>NAME</th>\n",
              "      <th>geometry</th>\n",
              "    </tr>\n",
              "  </thead>\n",
              "  <tbody>\n",
              "    <tr>\n",
              "      <th>0</th>\n",
              "      <td>3</td>\n",
              "      <td>ISLE OF WIGHT NHS TRUST</td>\n",
              "      <td>POINT (-1.30133 50.71084)</td>\n",
              "    </tr>\n",
              "    <tr>\n",
              "      <th>1</th>\n",
              "      <td>5</td>\n",
              "      <td>BARTS HEALTH NHS TRUST</td>\n",
              "      <td>POINT (-0.05813 51.51902)</td>\n",
              "    </tr>\n",
              "    <tr>\n",
              "      <th>2</th>\n",
              "      <td>7</td>\n",
              "      <td>ROYAL SURREY COUNTY HOSPITAL NHS FOUNDATION TRUST</td>\n",
              "      <td>POINT (-0.60746 51.24102)</td>\n",
              "    </tr>\n",
              "    <tr>\n",
              "      <th>3</th>\n",
              "      <td>8</td>\n",
              "      <td>WESTON AREA HEALTH NHS TRUST</td>\n",
              "      <td>POINT (-2.97140 51.32233)</td>\n",
              "    </tr>\n",
              "    <tr>\n",
              "      <th>4</th>\n",
              "      <td>9</td>\n",
              "      <td>YEOVIL DISTRICT HOSPITAL NHS FOUNDATION TRUST</td>\n",
              "      <td>POINT (-2.63471 50.94484)</td>\n",
              "    </tr>\n",
              "  </tbody>\n",
              "</table>\n",
              "</div>"
            ],
            "text/plain": [
              "   index  ...                   geometry\n",
              "0      3  ...  POINT (-1.30133 50.71084)\n",
              "1      5  ...  POINT (-0.05813 51.51902)\n",
              "2      7  ...  POINT (-0.60746 51.24102)\n",
              "3      8  ...  POINT (-2.97140 51.32233)\n",
              "4      9  ...  POINT (-2.63471 50.94484)\n",
              "\n",
              "[5 rows x 3 columns]"
            ]
          },
          "metadata": {
            "tags": []
          },
          "execution_count": 71
        }
      ]
    },
    {
      "cell_type": "markdown",
      "metadata": {
        "id": "rYfT1_8IZGL5"
      },
      "source": [
        "Adds a binary column to the MSOAs df detailing whether the MSOA contains a hospital trust."
      ]
    },
    {
      "cell_type": "code",
      "metadata": {
        "id": "GIj_oYkFAK-P",
        "colab": {
          "base_uri": "https://localhost:8080/",
          "height": 202
        },
        "outputId": "f060f577-c8dd-4d21-ffb0-3ff2d9690e11"
      },
      "source": [
        "# spatial join to create gdf of the MSOA each provider is within\n",
        "trust = gpd.sjoin(Pro, MSOAs, op='within', how ='right')\n",
        "\n",
        "# where a MSOA has a trust within set new column value to 1  \n",
        "trust['Contains trust'] = where(trust.NAME.isna(), 0, 1)\n",
        "\n",
        "# sorts index then adds column to MSOAs\n",
        "trust = trust.sort_index()\n",
        "MSOAs['con_trust'] = trust['Contains trust']\n",
        "\n",
        "#reorders data\n",
        "cols = MSOAs.columns.tolist()\n",
        "cols[3] , cols[4] = cols[4], cols[3]\n",
        "MSOAs = MSOAs[cols]\n",
        "\n",
        "MSOAs.head()"
      ],
      "execution_count": null,
      "outputs": [
        {
          "output_type": "execute_result",
          "data": {
            "text/html": [
              "<div>\n",
              "<style scoped>\n",
              "    .dataframe tbody tr th:only-of-type {\n",
              "        vertical-align: middle;\n",
              "    }\n",
              "\n",
              "    .dataframe tbody tr th {\n",
              "        vertical-align: top;\n",
              "    }\n",
              "\n",
              "    .dataframe thead th {\n",
              "        text-align: right;\n",
              "    }\n",
              "</style>\n",
              "<table border=\"1\" class=\"dataframe\">\n",
              "  <thead>\n",
              "    <tr style=\"text-align: right;\">\n",
              "      <th></th>\n",
              "      <th>msoa11cd</th>\n",
              "      <th>msoa11nm</th>\n",
              "      <th>st_areasha</th>\n",
              "      <th>pop</th>\n",
              "      <th>geometry</th>\n",
              "      <th>con_trust</th>\n",
              "    </tr>\n",
              "  </thead>\n",
              "  <tbody>\n",
              "    <tr>\n",
              "      <th>0</th>\n",
              "      <td>E02000001</td>\n",
              "      <td>City of London 001</td>\n",
              "      <td>2.983633e+06</td>\n",
              "      <td>6031.0</td>\n",
              "      <td>POLYGON ((-0.09276 51.52139, -0.08813 51.51941...</td>\n",
              "      <td>0</td>\n",
              "    </tr>\n",
              "    <tr>\n",
              "      <th>1</th>\n",
              "      <td>E02000002</td>\n",
              "      <td>Barking and Dagenham 001</td>\n",
              "      <td>2.091907e+06</td>\n",
              "      <td>7131.0</td>\n",
              "      <td>POLYGON ((0.14112 51.58054, 0.13788 51.57812, ...</td>\n",
              "      <td>0</td>\n",
              "    </tr>\n",
              "    <tr>\n",
              "      <th>2</th>\n",
              "      <td>E02000003</td>\n",
              "      <td>Barking and Dagenham 002</td>\n",
              "      <td>2.122216e+06</td>\n",
              "      <td>10437.0</td>\n",
              "      <td>POLYGON ((0.14838 51.58075, 0.14698 51.57568, ...</td>\n",
              "      <td>0</td>\n",
              "    </tr>\n",
              "    <tr>\n",
              "      <th>3</th>\n",
              "      <td>E02000004</td>\n",
              "      <td>Barking and Dagenham 003</td>\n",
              "      <td>2.569470e+06</td>\n",
              "      <td>6393.0</td>\n",
              "      <td>POLYGON ((0.19018 51.55268, 0.18600 51.54753, ...</td>\n",
              "      <td>0</td>\n",
              "    </tr>\n",
              "    <tr>\n",
              "      <th>4</th>\n",
              "      <td>E02000005</td>\n",
              "      <td>Barking and Dagenham 004</td>\n",
              "      <td>1.111109e+06</td>\n",
              "      <td>9116.0</td>\n",
              "      <td>POLYGON ((0.15043 51.56561, 0.14998 51.56138, ...</td>\n",
              "      <td>0</td>\n",
              "    </tr>\n",
              "  </tbody>\n",
              "</table>\n",
              "</div>"
            ],
            "text/plain": [
              "    msoa11cd  ... con_trust\n",
              "0  E02000001  ...         0\n",
              "1  E02000002  ...         0\n",
              "2  E02000003  ...         0\n",
              "3  E02000004  ...         0\n",
              "4  E02000005  ...         0\n",
              "\n",
              "[5 rows x 6 columns]"
            ]
          },
          "metadata": {
            "tags": []
          },
          "execution_count": 72
        }
      ]
    },
    {
      "cell_type": "markdown",
      "metadata": {
        "id": "JBz08MjKi2KM"
      },
      "source": [
        "Removes Isles of Scilly"
      ]
    },
    {
      "cell_type": "code",
      "metadata": {
        "id": "_d14rxi-Q-_H",
        "colab": {
          "base_uri": "https://localhost:8080/",
          "height": 35
        },
        "outputId": "8541ef63-fc15-4f17-8d31-37e3ec20ee49"
      },
      "source": [
        "# index for removal from stability data.\n",
        "idx = MSOAs[MSOAs['msoa11nm'] == 'Isles of Scilly 001'].index.values[0]\n",
        "print('Index of Isles of Scilly 001: ', idx)"
      ],
      "execution_count": null,
      "outputs": [
        {
          "output_type": "stream",
          "text": [
            "Index of Isles of Scilly 001:  6639\n"
          ],
          "name": "stdout"
        }
      ]
    },
    {
      "cell_type": "code",
      "metadata": {
        "id": "YhH9H5wui1H8"
      },
      "source": [
        "MSOAs = MSOAs[MSOAs['msoa11nm'] != 'Isles of Scilly 001']"
      ],
      "execution_count": null,
      "outputs": []
    },
    {
      "cell_type": "markdown",
      "metadata": {
        "id": "QJ9MJ84QHcp_"
      },
      "source": [
        "Saves MSOAs as shp file."
      ]
    },
    {
      "cell_type": "code",
      "metadata": {
        "id": "hgfX2Kt0Itkn"
      },
      "source": [
        "MSOAs.to_file('/content/drive/My Drive/Project/MSOAs/MSOAs.shp')"
      ],
      "execution_count": null,
      "outputs": []
    },
    {
      "cell_type": "markdown",
      "metadata": {
        "id": "s9HQ77DGWD74"
      },
      "source": [
        "Drop index column from Pro and saves Pro."
      ]
    },
    {
      "cell_type": "code",
      "metadata": {
        "id": "v7HmACliWLvc",
        "colab": {
          "base_uri": "https://localhost:8080/",
          "height": 202
        },
        "outputId": "686251c3-90ab-4925-ab6b-48db8729631f"
      },
      "source": [
        "Pro = Pro.drop('index',axis = 1)\n",
        "Pro.to_file('/content/drive/My Drive/Project/MSOAs/PRO.shp')\n",
        "Pro.head()"
      ],
      "execution_count": null,
      "outputs": [
        {
          "output_type": "execute_result",
          "data": {
            "text/html": [
              "<div>\n",
              "<style scoped>\n",
              "    .dataframe tbody tr th:only-of-type {\n",
              "        vertical-align: middle;\n",
              "    }\n",
              "\n",
              "    .dataframe tbody tr th {\n",
              "        vertical-align: top;\n",
              "    }\n",
              "\n",
              "    .dataframe thead th {\n",
              "        text-align: right;\n",
              "    }\n",
              "</style>\n",
              "<table border=\"1\" class=\"dataframe\">\n",
              "  <thead>\n",
              "    <tr style=\"text-align: right;\">\n",
              "      <th></th>\n",
              "      <th>NAME</th>\n",
              "      <th>geometry</th>\n",
              "    </tr>\n",
              "  </thead>\n",
              "  <tbody>\n",
              "    <tr>\n",
              "      <th>0</th>\n",
              "      <td>ISLE OF WIGHT NHS TRUST</td>\n",
              "      <td>POINT (-1.30133 50.71084)</td>\n",
              "    </tr>\n",
              "    <tr>\n",
              "      <th>1</th>\n",
              "      <td>BARTS HEALTH NHS TRUST</td>\n",
              "      <td>POINT (-0.05813 51.51902)</td>\n",
              "    </tr>\n",
              "    <tr>\n",
              "      <th>2</th>\n",
              "      <td>ROYAL SURREY COUNTY HOSPITAL NHS FOUNDATION TRUST</td>\n",
              "      <td>POINT (-0.60746 51.24102)</td>\n",
              "    </tr>\n",
              "    <tr>\n",
              "      <th>3</th>\n",
              "      <td>WESTON AREA HEALTH NHS TRUST</td>\n",
              "      <td>POINT (-2.97140 51.32233)</td>\n",
              "    </tr>\n",
              "    <tr>\n",
              "      <th>4</th>\n",
              "      <td>YEOVIL DISTRICT HOSPITAL NHS FOUNDATION TRUST</td>\n",
              "      <td>POINT (-2.63471 50.94484)</td>\n",
              "    </tr>\n",
              "  </tbody>\n",
              "</table>\n",
              "</div>"
            ],
            "text/plain": [
              "                                                NAME                   geometry\n",
              "0                            ISLE OF WIGHT NHS TRUST  POINT (-1.30133 50.71084)\n",
              "1                             BARTS HEALTH NHS TRUST  POINT (-0.05813 51.51902)\n",
              "2  ROYAL SURREY COUNTY HOSPITAL NHS FOUNDATION TRUST  POINT (-0.60746 51.24102)\n",
              "3                       WESTON AREA HEALTH NHS TRUST  POINT (-2.97140 51.32233)\n",
              "4      YEOVIL DISTRICT HOSPITAL NHS FOUNDATION TRUST  POINT (-2.63471 50.94484)"
            ]
          },
          "metadata": {
            "tags": []
          },
          "execution_count": 76
        }
      ]
    }
  ]
}